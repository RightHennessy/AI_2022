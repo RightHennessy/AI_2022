{
 "cells": [
  {
   "cell_type": "code",
   "execution_count": 1,
   "id": "99268e20",
   "metadata": {
    "_cell_guid": "b1076dfc-b9ad-4769-8c92-a6c4dae69d19",
    "_uuid": "8f2839f25d086af736a60e9eeb907d3b93b6e0e5",
    "execution": {
     "iopub.execute_input": "2022-09-15T04:14:49.517998Z",
     "iopub.status.busy": "2022-09-15T04:14:49.517529Z",
     "iopub.status.idle": "2022-09-15T04:14:49.534533Z",
     "shell.execute_reply": "2022-09-15T04:14:49.533283Z"
    },
    "papermill": {
     "duration": 0.026929,
     "end_time": "2022-09-15T04:14:49.536994",
     "exception": false,
     "start_time": "2022-09-15T04:14:49.510065",
     "status": "completed"
    },
    "tags": []
   },
   "outputs": [
    {
     "name": "stdout",
     "output_type": "stream",
     "text": [
      "/kaggle/input/2022-ai-w3p1/train.csv\n",
      "/kaggle/input/2022-ai-w3p1/test.csv\n",
      "/kaggle/input/2022-ai-w3p1/submit_sample.csv\n"
     ]
    }
   ],
   "source": [
    "# This Python 3 environment comes with many helpful analytics libraries installed\n",
    "# It is defined by the kaggle/python Docker image: https://github.com/kaggle/docker-python\n",
    "# For example, here's several helpful packages to load\n",
    "\n",
    "import numpy as np # linear algebra\n",
    "import pandas as pd # data processing, CSV file I/O (e.g. pd.read_csv)\n",
    "\n",
    "# Input data files are available in the read-only \"../input/\" directory\n",
    "# For example, running this (by clicking run or pressing Shift+Enter) will list all files under the input directory\n",
    "\n",
    "import os\n",
    "for dirname, _, filenames in os.walk('/kaggle/input'):\n",
    "    for filename in filenames:\n",
    "        print(os.path.join(dirname, filename))\n",
    "\n",
    "# You can write up to 20GB to the current directory (/kaggle/working/) that gets preserved as output when you create a version using \"Save & Run All\" \n",
    "# You can also write temporary files to /kaggle/temp/, but they won't be saved outside of the current session"
   ]
  },
  {
   "cell_type": "code",
   "execution_count": 2,
   "id": "696bda26",
   "metadata": {
    "execution": {
     "iopub.execute_input": "2022-09-15T04:14:49.548596Z",
     "iopub.status.busy": "2022-09-15T04:14:49.548167Z",
     "iopub.status.idle": "2022-09-15T04:14:51.414746Z",
     "shell.execute_reply": "2022-09-15T04:14:51.413583Z"
    },
    "papermill": {
     "duration": 1.875674,
     "end_time": "2022-09-15T04:14:51.417704",
     "exception": false,
     "start_time": "2022-09-15T04:14:49.542030",
     "status": "completed"
    },
    "tags": []
   },
   "outputs": [],
   "source": [
    "import torch\n",
    "import torch.optim as optim"
   ]
  },
  {
   "cell_type": "code",
   "execution_count": 3,
   "id": "bc31af14",
   "metadata": {
    "execution": {
     "iopub.execute_input": "2022-09-15T04:14:51.429755Z",
     "iopub.status.busy": "2022-09-15T04:14:51.429182Z",
     "iopub.status.idle": "2022-09-15T04:14:51.437766Z",
     "shell.execute_reply": "2022-09-15T04:14:51.436718Z"
    },
    "papermill": {
     "duration": 0.017288,
     "end_time": "2022-09-15T04:14:51.440137",
     "exception": false,
     "start_time": "2022-09-15T04:14:51.422849",
     "status": "completed"
    },
    "tags": []
   },
   "outputs": [],
   "source": [
    "import random\n",
    "import torch\n",
    "\n",
    "seed = 42\n",
    "random.seed(seed)\n",
    "np.random.seed(seed)\n",
    "torch.manual_seed(seed)\n",
    "if torch.cuda.is_available():\n",
    "    torch.cuda.manual_seed(seed)\n",
    "    torch.cuda.manual_seed_all(seed)\n",
    "torch.backends.cudnn.benchmark = False\n",
    "torch.backends.cudnn.deterministic = True"
   ]
  },
  {
   "cell_type": "code",
   "execution_count": 4,
   "id": "acd03446",
   "metadata": {
    "execution": {
     "iopub.execute_input": "2022-09-15T04:14:51.452668Z",
     "iopub.status.busy": "2022-09-15T04:14:51.452252Z",
     "iopub.status.idle": "2022-09-15T04:14:51.479423Z",
     "shell.execute_reply": "2022-09-15T04:14:51.478561Z"
    },
    "papermill": {
     "duration": 0.036517,
     "end_time": "2022-09-15T04:14:51.481854",
     "exception": false,
     "start_time": "2022-09-15T04:14:51.445337",
     "status": "completed"
    },
    "tags": []
   },
   "outputs": [],
   "source": [
    "train = pd.read_csv('../input/2022-ai-w3p1/train.csv')\n",
    "test = pd.read_csv('../input/2022-ai-w3p1/test.csv')\n",
    "submit = pd.read_csv('../input/2022-ai-w3p1/submit_sample.csv')"
   ]
  },
  {
   "cell_type": "code",
   "execution_count": 5,
   "id": "3fafb0cc",
   "metadata": {
    "execution": {
     "iopub.execute_input": "2022-09-15T04:14:51.494335Z",
     "iopub.status.busy": "2022-09-15T04:14:51.493201Z",
     "iopub.status.idle": "2022-09-15T04:14:51.524941Z",
     "shell.execute_reply": "2022-09-15T04:14:51.523842Z"
    },
    "papermill": {
     "duration": 0.040639,
     "end_time": "2022-09-15T04:14:51.527732",
     "exception": false,
     "start_time": "2022-09-15T04:14:51.487093",
     "status": "completed"
    },
    "tags": []
   },
   "outputs": [
    {
     "data": {
      "text/html": [
       "<div>\n",
       "<style scoped>\n",
       "    .dataframe tbody tr th:only-of-type {\n",
       "        vertical-align: middle;\n",
       "    }\n",
       "\n",
       "    .dataframe tbody tr th {\n",
       "        vertical-align: top;\n",
       "    }\n",
       "\n",
       "    .dataframe thead th {\n",
       "        text-align: right;\n",
       "    }\n",
       "</style>\n",
       "<table border=\"1\" class=\"dataframe\">\n",
       "  <thead>\n",
       "    <tr style=\"text-align: right;\">\n",
       "      <th></th>\n",
       "      <th>year</th>\n",
       "      <th>avgTemp</th>\n",
       "      <th>minTemp</th>\n",
       "      <th>maxTemp</th>\n",
       "      <th>rainFall</th>\n",
       "      <th>avgPrice</th>\n",
       "    </tr>\n",
       "  </thead>\n",
       "  <tbody>\n",
       "    <tr>\n",
       "      <th>0</th>\n",
       "      <td>20100101</td>\n",
       "      <td>-4.9</td>\n",
       "      <td>-11.0</td>\n",
       "      <td>0.9</td>\n",
       "      <td>0.0</td>\n",
       "      <td>2123</td>\n",
       "    </tr>\n",
       "    <tr>\n",
       "      <th>1</th>\n",
       "      <td>20100102</td>\n",
       "      <td>-3.1</td>\n",
       "      <td>-5.5</td>\n",
       "      <td>5.5</td>\n",
       "      <td>0.8</td>\n",
       "      <td>2123</td>\n",
       "    </tr>\n",
       "    <tr>\n",
       "      <th>2</th>\n",
       "      <td>20100103</td>\n",
       "      <td>-2.9</td>\n",
       "      <td>-6.9</td>\n",
       "      <td>1.4</td>\n",
       "      <td>0.0</td>\n",
       "      <td>2123</td>\n",
       "    </tr>\n",
       "    <tr>\n",
       "      <th>3</th>\n",
       "      <td>20100104</td>\n",
       "      <td>-1.8</td>\n",
       "      <td>-5.1</td>\n",
       "      <td>2.2</td>\n",
       "      <td>5.9</td>\n",
       "      <td>2020</td>\n",
       "    </tr>\n",
       "    <tr>\n",
       "      <th>4</th>\n",
       "      <td>20100105</td>\n",
       "      <td>-5.2</td>\n",
       "      <td>-8.7</td>\n",
       "      <td>-1.8</td>\n",
       "      <td>0.7</td>\n",
       "      <td>2060</td>\n",
       "    </tr>\n",
       "    <tr>\n",
       "      <th>...</th>\n",
       "      <td>...</td>\n",
       "      <td>...</td>\n",
       "      <td>...</td>\n",
       "      <td>...</td>\n",
       "      <td>...</td>\n",
       "      <td>...</td>\n",
       "    </tr>\n",
       "    <tr>\n",
       "      <th>2552</th>\n",
       "      <td>20161227</td>\n",
       "      <td>1.2</td>\n",
       "      <td>-3.2</td>\n",
       "      <td>4.5</td>\n",
       "      <td>2.1</td>\n",
       "      <td>4226</td>\n",
       "    </tr>\n",
       "    <tr>\n",
       "      <th>2553</th>\n",
       "      <td>20161228</td>\n",
       "      <td>-1.4</td>\n",
       "      <td>-6.5</td>\n",
       "      <td>4.8</td>\n",
       "      <td>0.0</td>\n",
       "      <td>4200</td>\n",
       "    </tr>\n",
       "    <tr>\n",
       "      <th>2554</th>\n",
       "      <td>20161229</td>\n",
       "      <td>-1.3</td>\n",
       "      <td>-4.5</td>\n",
       "      <td>2.1</td>\n",
       "      <td>0.2</td>\n",
       "      <td>4224</td>\n",
       "    </tr>\n",
       "    <tr>\n",
       "      <th>2555</th>\n",
       "      <td>20161230</td>\n",
       "      <td>-1.4</td>\n",
       "      <td>-7.0</td>\n",
       "      <td>4.6</td>\n",
       "      <td>0.0</td>\n",
       "      <td>4219</td>\n",
       "    </tr>\n",
       "    <tr>\n",
       "      <th>2556</th>\n",
       "      <td>20161231</td>\n",
       "      <td>1.7</td>\n",
       "      <td>-2.9</td>\n",
       "      <td>7.1</td>\n",
       "      <td>0.0</td>\n",
       "      <td>4219</td>\n",
       "    </tr>\n",
       "  </tbody>\n",
       "</table>\n",
       "<p>2557 rows × 6 columns</p>\n",
       "</div>"
      ],
      "text/plain": [
       "          year  avgTemp  minTemp  maxTemp  rainFall  avgPrice\n",
       "0     20100101     -4.9    -11.0      0.9       0.0      2123\n",
       "1     20100102     -3.1     -5.5      5.5       0.8      2123\n",
       "2     20100103     -2.9     -6.9      1.4       0.0      2123\n",
       "3     20100104     -1.8     -5.1      2.2       5.9      2020\n",
       "4     20100105     -5.2     -8.7     -1.8       0.7      2060\n",
       "...        ...      ...      ...      ...       ...       ...\n",
       "2552  20161227      1.2     -3.2      4.5       2.1      4226\n",
       "2553  20161228     -1.4     -6.5      4.8       0.0      4200\n",
       "2554  20161229     -1.3     -4.5      2.1       0.2      4224\n",
       "2555  20161230     -1.4     -7.0      4.6       0.0      4219\n",
       "2556  20161231      1.7     -2.9      7.1       0.0      4219\n",
       "\n",
       "[2557 rows x 6 columns]"
      ]
     },
     "execution_count": 5,
     "metadata": {},
     "output_type": "execute_result"
    }
   ],
   "source": [
    "train"
   ]
  },
  {
   "cell_type": "code",
   "execution_count": 6,
   "id": "8fa22f71",
   "metadata": {
    "execution": {
     "iopub.execute_input": "2022-09-15T04:14:51.540118Z",
     "iopub.status.busy": "2022-09-15T04:14:51.539737Z",
     "iopub.status.idle": "2022-09-15T04:14:51.551037Z",
     "shell.execute_reply": "2022-09-15T04:14:51.550218Z"
    },
    "papermill": {
     "duration": 0.020262,
     "end_time": "2022-09-15T04:14:51.553254",
     "exception": false,
     "start_time": "2022-09-15T04:14:51.532992",
     "status": "completed"
    },
    "tags": []
   },
   "outputs": [],
   "source": [
    "trainX = train.drop(['avgPrice', 'year'], axis=1)\n",
    "trainY = train['avgPrice']\n",
    "testX = test.drop('year', axis=1)"
   ]
  },
  {
   "cell_type": "code",
   "execution_count": 7,
   "id": "a2222c7f",
   "metadata": {
    "execution": {
     "iopub.execute_input": "2022-09-15T04:14:51.565956Z",
     "iopub.status.busy": "2022-09-15T04:14:51.565142Z",
     "iopub.status.idle": "2022-09-15T04:14:51.571704Z",
     "shell.execute_reply": "2022-09-15T04:14:51.570578Z"
    },
    "papermill": {
     "duration": 0.015376,
     "end_time": "2022-09-15T04:14:51.574216",
     "exception": false,
     "start_time": "2022-09-15T04:14:51.558840",
     "status": "completed"
    },
    "tags": []
   },
   "outputs": [],
   "source": [
    "x_train = torch.FloatTensor(trainX.to_numpy())\n",
    "y_train = torch.FloatTensor(trainY.to_numpy().reshape(-1,1))\n",
    "x_test = torch.FloatTensor(testX.to_numpy())"
   ]
  },
  {
   "cell_type": "code",
   "execution_count": 8,
   "id": "e52550bf",
   "metadata": {
    "execution": {
     "iopub.execute_input": "2022-09-15T04:14:51.586186Z",
     "iopub.status.busy": "2022-09-15T04:14:51.585821Z",
     "iopub.status.idle": "2022-09-15T04:14:51.593737Z",
     "shell.execute_reply": "2022-09-15T04:14:51.591959Z"
    },
    "papermill": {
     "duration": 0.016568,
     "end_time": "2022-09-15T04:14:51.595926",
     "exception": false,
     "start_time": "2022-09-15T04:14:51.579358",
     "status": "completed"
    },
    "tags": []
   },
   "outputs": [
    {
     "name": "stdout",
     "output_type": "stream",
     "text": [
      "tensor([[0.],\n",
      "        [0.],\n",
      "        [0.],\n",
      "        [0.]], requires_grad=True)\n",
      "tensor([0.], requires_grad=True)\n"
     ]
    }
   ],
   "source": [
    "# 학습을 통해 W와 b 값을 찾겠다. 일단 0으로 초기화\n",
    "W = torch.zeros([x_train.shape[1],1], requires_grad=True)\n",
    "print(W)\n",
    "\n",
    "b = torch.zeros(1, requires_grad=True)\n",
    "print(b)"
   ]
  },
  {
   "cell_type": "code",
   "execution_count": 9,
   "id": "0eab55df",
   "metadata": {
    "execution": {
     "iopub.execute_input": "2022-09-15T04:14:51.608319Z",
     "iopub.status.busy": "2022-09-15T04:14:51.607559Z",
     "iopub.status.idle": "2022-09-15T04:14:51.627627Z",
     "shell.execute_reply": "2022-09-15T04:14:51.626380Z"
    },
    "papermill": {
     "duration": 0.02892,
     "end_time": "2022-09-15T04:14:51.630054",
     "exception": false,
     "start_time": "2022-09-15T04:14:51.601134",
     "status": "completed"
    },
    "tags": []
   },
   "outputs": [
    {
     "name": "stdout",
     "output_type": "stream",
     "text": [
      "tensor([[0.],\n",
      "        [0.],\n",
      "        [0.],\n",
      "        ...,\n",
      "        [0.],\n",
      "        [0.],\n",
      "        [0.]], grad_fn=<AddBackward0>)\n"
     ]
    }
   ],
   "source": [
    "hypothesis = torch.matmul(x_train, W) + b\n",
    "print(hypothesis)"
   ]
  },
  {
   "cell_type": "code",
   "execution_count": 10,
   "id": "f8078ff4",
   "metadata": {
    "execution": {
     "iopub.execute_input": "2022-09-15T04:14:51.642298Z",
     "iopub.status.busy": "2022-09-15T04:14:51.641933Z",
     "iopub.status.idle": "2022-09-15T04:14:51.651294Z",
     "shell.execute_reply": "2022-09-15T04:14:51.649730Z"
    },
    "papermill": {
     "duration": 0.01829,
     "end_time": "2022-09-15T04:14:51.653660",
     "exception": false,
     "start_time": "2022-09-15T04:14:51.635370",
     "status": "completed"
    },
    "tags": []
   },
   "outputs": [
    {
     "name": "stdout",
     "output_type": "stream",
     "text": [
      "tensor([[ 4507129.],\n",
      "        [ 4507129.],\n",
      "        [ 4507129.],\n",
      "        ...,\n",
      "        [17842176.],\n",
      "        [17799960.],\n",
      "        [17799960.]], grad_fn=<PowBackward0>)\n"
     ]
    }
   ],
   "source": [
    "print((hypothesis - y_train) ** 2)"
   ]
  },
  {
   "cell_type": "code",
   "execution_count": 11,
   "id": "ef50fde2",
   "metadata": {
    "execution": {
     "iopub.execute_input": "2022-09-15T04:14:51.666373Z",
     "iopub.status.busy": "2022-09-15T04:14:51.665679Z",
     "iopub.status.idle": "2022-09-15T04:14:51.674124Z",
     "shell.execute_reply": "2022-09-15T04:14:51.672729Z"
    },
    "papermill": {
     "duration": 0.01742,
     "end_time": "2022-09-15T04:14:51.676407",
     "exception": false,
     "start_time": "2022-09-15T04:14:51.658987",
     "status": "completed"
    },
    "tags": []
   },
   "outputs": [
    {
     "name": "stdout",
     "output_type": "stream",
     "text": [
      "tensor(12013341., grad_fn=<MeanBackward0>)\n"
     ]
    }
   ],
   "source": [
    "cost = torch.mean((hypothesis - y_train) ** 2)\n",
    "print(cost)"
   ]
  },
  {
   "cell_type": "code",
   "execution_count": 12,
   "id": "bf232386",
   "metadata": {
    "execution": {
     "iopub.execute_input": "2022-09-15T04:14:51.689298Z",
     "iopub.status.busy": "2022-09-15T04:14:51.688581Z",
     "iopub.status.idle": "2022-09-15T04:14:51.693243Z",
     "shell.execute_reply": "2022-09-15T04:14:51.692422Z"
    },
    "papermill": {
     "duration": 0.01345,
     "end_time": "2022-09-15T04:14:51.695299",
     "exception": false,
     "start_time": "2022-09-15T04:14:51.681849",
     "status": "completed"
    },
    "tags": []
   },
   "outputs": [],
   "source": [
    "optimizer = optim.SGD([W, b], lr=0.001)"
   ]
  },
  {
   "cell_type": "code",
   "execution_count": 13,
   "id": "5f3f3bad",
   "metadata": {
    "execution": {
     "iopub.execute_input": "2022-09-15T04:14:51.708131Z",
     "iopub.status.busy": "2022-09-15T04:14:51.707410Z",
     "iopub.status.idle": "2022-09-15T04:15:12.557580Z",
     "shell.execute_reply": "2022-09-15T04:15:12.556253Z"
    },
    "papermill": {
     "duration": 20.859111,
     "end_time": "2022-09-15T04:15:12.559890",
     "exception": false,
     "start_time": "2022-09-15T04:14:51.700779",
     "status": "completed"
    },
    "tags": []
   },
   "outputs": [
    {
     "data": {
      "text/plain": [
       "\"\\n    if epoch % 100 == 0:\\n        print('Epoch {:4d}/{} W:{}'.format(\\n            epoch, nb_epochs, torch.mean(cost)\\n        ))\\n \""
      ]
     },
     "execution_count": 13,
     "metadata": {},
     "output_type": "execute_result"
    }
   ],
   "source": [
    "nb_epochs = 100000\n",
    "for epoch in range(nb_epochs + 1):\n",
    "    \n",
    "    # H(x) 계산\n",
    "    hypothesis = torch.matmul(x_train, W) + b\n",
    "    \n",
    "    # cost 계산\n",
    "    cost = torch.mean((hypothesis - y_train) ** 2)\n",
    "\n",
    "    # cost로 H(x) 개선\n",
    "    optimizer.zero_grad()\n",
    "    cost.backward()\n",
    "    optimizer.step()\n",
    "\n",
    "    # 100번마다 로그 출력\n",
    "'''\n",
    "    if epoch % 100 == 0:\n",
    "        print('Epoch {:4d}/{} W:{}'.format(\n",
    "            epoch, nb_epochs, torch.mean(cost)\n",
    "        ))\n",
    " '''"
   ]
  },
  {
   "cell_type": "code",
   "execution_count": 14,
   "id": "a2c7ad82",
   "metadata": {
    "execution": {
     "iopub.execute_input": "2022-09-15T04:15:12.572967Z",
     "iopub.status.busy": "2022-09-15T04:15:12.572092Z",
     "iopub.status.idle": "2022-09-15T04:15:12.581958Z",
     "shell.execute_reply": "2022-09-15T04:15:12.581026Z"
    },
    "papermill": {
     "duration": 0.018664,
     "end_time": "2022-09-15T04:15:12.584140",
     "exception": false,
     "start_time": "2022-09-15T04:15:12.565476",
     "status": "completed"
    },
    "tags": []
   },
   "outputs": [
    {
     "data": {
      "text/plain": [
       "tensor([[ 4.0000, -1.4000,  9.5000,  0.1000],\n",
       "        [-1.7000, -5.4000,  1.4000,  3.3000],\n",
       "        [ 1.4000, -2.0000,  5.0000,  0.0000],\n",
       "        [ 3.6000, -2.5000, 11.1000,  0.1000],\n",
       "        [ 5.0000, -1.6000, 11.3000,  0.0000],\n",
       "        [ 7.3000,  0.7000, 13.6000,  0.7000],\n",
       "        [12.3000,  7.2000, 17.7000,  0.0000],\n",
       "        [19.8000, 11.9000, 27.7000,  0.0000],\n",
       "        [17.5000, 12.3000, 24.5000,  2.9000],\n",
       "        [20.6000, 11.8000, 28.3000,  0.0000],\n",
       "        [18.4000, 15.9000, 21.2000,  5.5000],\n",
       "        [24.7000, 18.6000, 31.5000,  0.0000],\n",
       "        [26.1000, 24.1000, 28.5000, 26.7000],\n",
       "        [26.0000, 22.2000, 30.2000, 11.3000],\n",
       "        [25.6000, 23.5000, 28.4000, 11.6000],\n",
       "        [23.2000, 17.9000, 29.6000,  0.0000],\n",
       "        [21.3000, 16.0000, 27.6000,  0.0000],\n",
       "        [17.3000,  9.9000, 25.9000,  0.0000],\n",
       "        [20.4000, 16.3000, 26.5000,  0.0000],\n",
       "        [12.7000,  6.9000, 19.5000,  0.0000],\n",
       "        [ 5.5000,  1.2000, 10.3000,  0.0000],\n",
       "        [ 5.3000,  0.1000, 10.7000,  0.5000],\n",
       "        [-0.2000, -7.3000,  5.7000,  0.3000],\n",
       "        [ 0.2000, -2.7000,  3.5000,  0.0000]])"
      ]
     },
     "execution_count": 14,
     "metadata": {},
     "output_type": "execute_result"
    }
   ],
   "source": [
    "x_test"
   ]
  },
  {
   "cell_type": "code",
   "execution_count": 15,
   "id": "1ec81ac2",
   "metadata": {
    "execution": {
     "iopub.execute_input": "2022-09-15T04:15:12.597126Z",
     "iopub.status.busy": "2022-09-15T04:15:12.596744Z",
     "iopub.status.idle": "2022-09-15T04:15:12.602693Z",
     "shell.execute_reply": "2022-09-15T04:15:12.601682Z"
    },
    "papermill": {
     "duration": 0.01509,
     "end_time": "2022-09-15T04:15:12.604972",
     "exception": false,
     "start_time": "2022-09-15T04:15:12.589882",
     "status": "completed"
    },
    "tags": []
   },
   "outputs": [],
   "source": [
    "submit['Expected'] = (torch.matmul(x_test, W) + b).detach()"
   ]
  },
  {
   "cell_type": "code",
   "execution_count": 16,
   "id": "9ac12956",
   "metadata": {
    "execution": {
     "iopub.execute_input": "2022-09-15T04:15:12.618084Z",
     "iopub.status.busy": "2022-09-15T04:15:12.617381Z",
     "iopub.status.idle": "2022-09-15T04:15:12.625455Z",
     "shell.execute_reply": "2022-09-15T04:15:12.624385Z"
    },
    "papermill": {
     "duration": 0.01719,
     "end_time": "2022-09-15T04:15:12.627845",
     "exception": false,
     "start_time": "2022-09-15T04:15:12.610655",
     "status": "completed"
    },
    "tags": []
   },
   "outputs": [],
   "source": [
    "submit.to_csv('submit.csv', index=False)"
   ]
  },
  {
   "cell_type": "code",
   "execution_count": null,
   "id": "9752a7f0",
   "metadata": {
    "papermill": {
     "duration": 0.005269,
     "end_time": "2022-09-15T04:15:12.638712",
     "exception": false,
     "start_time": "2022-09-15T04:15:12.633443",
     "status": "completed"
    },
    "tags": []
   },
   "outputs": [],
   "source": []
  }
 ],
 "metadata": {
  "kernelspec": {
   "display_name": "Python 3",
   "language": "python",
   "name": "python3"
  },
  "language_info": {
   "codemirror_mode": {
    "name": "ipython",
    "version": 3
   },
   "file_extension": ".py",
   "mimetype": "text/x-python",
   "name": "python",
   "nbconvert_exporter": "python",
   "pygments_lexer": "ipython3",
   "version": "3.7.12"
  },
  "papermill": {
   "default_parameters": {},
   "duration": 32.601092,
   "end_time": "2022-09-15T04:15:13.366017",
   "environment_variables": {},
   "exception": null,
   "input_path": "__notebook__.ipynb",
   "output_path": "__notebook__.ipynb",
   "parameters": {},
   "start_time": "2022-09-15T04:14:40.764925",
   "version": "2.3.4"
  }
 },
 "nbformat": 4,
 "nbformat_minor": 5
}
