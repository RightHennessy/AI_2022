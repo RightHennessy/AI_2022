{
 "cells": [
  {
   "cell_type": "code",
   "execution_count": 1,
   "id": "ca3db4db",
   "metadata": {
    "_cell_guid": "b1076dfc-b9ad-4769-8c92-a6c4dae69d19",
    "_uuid": "8f2839f25d086af736a60e9eeb907d3b93b6e0e5",
    "execution": {
     "iopub.execute_input": "2022-09-22T04:18:48.605197Z",
     "iopub.status.busy": "2022-09-22T04:18:48.604501Z",
     "iopub.status.idle": "2022-09-22T04:18:48.621550Z",
     "shell.execute_reply": "2022-09-22T04:18:48.620301Z"
    },
    "papermill": {
     "duration": 0.025471,
     "end_time": "2022-09-22T04:18:48.623798",
     "exception": false,
     "start_time": "2022-09-22T04:18:48.598327",
     "status": "completed"
    },
    "tags": []
   },
   "outputs": [
    {
     "name": "stdout",
     "output_type": "stream",
     "text": [
      "/kaggle/input/2022-ai-w4p1/submit.csv\n",
      "/kaggle/input/2022-ai-w4p1/train.csv\n",
      "/kaggle/input/2022-ai-w4p1/test.csv\n"
     ]
    }
   ],
   "source": [
    "# This Python 3 environment comes with many helpful analytics libraries installed\n",
    "# It is defined by the kaggle/python Docker image: https://github.com/kaggle/docker-python\n",
    "# For example, here's several helpful packages to load\n",
    "\n",
    "import numpy as np # linear algebra\n",
    "import pandas as pd # data processing, CSV file I/O (e.g. pd.read_csv)\n",
    "\n",
    "# Input data files are available in the read-only \"../input/\" directory\n",
    "# For example, running this (by clicking run or pressing Shift+Enter) will list all files under the input directory\n",
    "\n",
    "import os\n",
    "for dirname, _, filenames in os.walk('/kaggle/input'):\n",
    "    for filename in filenames:\n",
    "        print(os.path.join(dirname, filename))\n",
    "\n",
    "# You can write up to 20GB to the current directory (/kaggle/working/) that gets preserved as output when you create a version using \"Save & Run All\" \n",
    "# You can also write temporary files to /kaggle/temp/, but they won't be saved outside of the current session"
   ]
  },
  {
   "cell_type": "code",
   "execution_count": 2,
   "id": "dfe26ff9",
   "metadata": {
    "execution": {
     "iopub.execute_input": "2022-09-22T04:18:48.631877Z",
     "iopub.status.busy": "2022-09-22T04:18:48.631414Z",
     "iopub.status.idle": "2022-09-22T04:18:50.223463Z",
     "shell.execute_reply": "2022-09-22T04:18:50.222444Z"
    },
    "papermill": {
     "duration": 1.598638,
     "end_time": "2022-09-22T04:18:50.225892",
     "exception": false,
     "start_time": "2022-09-22T04:18:48.627254",
     "status": "completed"
    },
    "tags": []
   },
   "outputs": [],
   "source": [
    "import torch\n",
    "import torch.optim as optim\n",
    "import random\n",
    "\n",
    "seed = 42\n",
    "random.seed(seed)\n",
    "np.random.seed(seed)\n",
    "torch.manual_seed(seed)\n",
    "if torch.cuda.is_available():\n",
    "    torch.cuda.manual_seed(seed)\n",
    "    torch.cuda.manual_seed_all(seed)\n",
    "torch.backends.cudnn.benchmark = False\n",
    "torch.backends.cudnn.deterministic = True\n"
   ]
  },
  {
   "cell_type": "code",
   "execution_count": 3,
   "id": "9543a3fd",
   "metadata": {
    "execution": {
     "iopub.execute_input": "2022-09-22T04:18:50.233970Z",
     "iopub.status.busy": "2022-09-22T04:18:50.233495Z",
     "iopub.status.idle": "2022-09-22T04:18:50.263812Z",
     "shell.execute_reply": "2022-09-22T04:18:50.262884Z"
    },
    "papermill": {
     "duration": 0.036729,
     "end_time": "2022-09-22T04:18:50.266007",
     "exception": false,
     "start_time": "2022-09-22T04:18:50.229278",
     "status": "completed"
    },
    "tags": []
   },
   "outputs": [],
   "source": [
    "train = pd.read_csv('../input/2022-ai-w4p1/train.csv')\n",
    "test = pd.read_csv('../input/2022-ai-w4p1/test.csv')\n",
    "submit = pd.read_csv('../input/2022-ai-w4p1/submit.csv')"
   ]
  },
  {
   "cell_type": "code",
   "execution_count": 4,
   "id": "8faf6bde",
   "metadata": {
    "execution": {
     "iopub.execute_input": "2022-09-22T04:18:50.273951Z",
     "iopub.status.busy": "2022-09-22T04:18:50.273663Z",
     "iopub.status.idle": "2022-09-22T04:18:50.285074Z",
     "shell.execute_reply": "2022-09-22T04:18:50.284045Z"
    },
    "papermill": {
     "duration": 0.017714,
     "end_time": "2022-09-22T04:18:50.287197",
     "exception": false,
     "start_time": "2022-09-22T04:18:50.269483",
     "status": "completed"
    },
    "tags": []
   },
   "outputs": [],
   "source": [
    "trainX = train.drop('Diabetes', axis=1)\n",
    "trainY = train['Diabetes']"
   ]
  },
  {
   "cell_type": "code",
   "execution_count": 5,
   "id": "16427fb4",
   "metadata": {
    "execution": {
     "iopub.execute_input": "2022-09-22T04:18:50.294864Z",
     "iopub.status.busy": "2022-09-22T04:18:50.294584Z",
     "iopub.status.idle": "2022-09-22T04:18:50.300242Z",
     "shell.execute_reply": "2022-09-22T04:18:50.299383Z"
    },
    "papermill": {
     "duration": 0.011515,
     "end_time": "2022-09-22T04:18:50.302186",
     "exception": false,
     "start_time": "2022-09-22T04:18:50.290671",
     "status": "completed"
    },
    "tags": []
   },
   "outputs": [],
   "source": [
    "# DataFrame 말고 배열 형태로 넣어줘야함\n",
    "\n",
    "x_train = torch.FloatTensor(trainX.to_numpy())\n",
    "y_train = torch.FloatTensor(trainY.to_numpy())\n",
    "x_test = torch.FloatTensor(test.to_numpy())"
   ]
  },
  {
   "cell_type": "code",
   "execution_count": 6,
   "id": "4e5799fd",
   "metadata": {
    "execution": {
     "iopub.execute_input": "2022-09-22T04:18:50.310075Z",
     "iopub.status.busy": "2022-09-22T04:18:50.309266Z",
     "iopub.status.idle": "2022-09-22T04:18:50.314790Z",
     "shell.execute_reply": "2022-09-22T04:18:50.313757Z"
    },
    "papermill": {
     "duration": 0.011856,
     "end_time": "2022-09-22T04:18:50.317162",
     "exception": false,
     "start_time": "2022-09-22T04:18:50.305306",
     "status": "completed"
    },
    "tags": []
   },
   "outputs": [
    {
     "name": "stdout",
     "output_type": "stream",
     "text": [
      "torch.Size([537, 8])\n"
     ]
    }
   ],
   "source": [
    "print(x_train.shape)"
   ]
  },
  {
   "cell_type": "code",
   "execution_count": 7,
   "id": "27fd0764",
   "metadata": {
    "execution": {
     "iopub.execute_input": "2022-09-22T04:18:50.325083Z",
     "iopub.status.busy": "2022-09-22T04:18:50.324270Z",
     "iopub.status.idle": "2022-09-22T04:18:50.374632Z",
     "shell.execute_reply": "2022-09-22T04:18:50.373592Z"
    },
    "papermill": {
     "duration": 0.056791,
     "end_time": "2022-09-22T04:18:50.377063",
     "exception": false,
     "start_time": "2022-09-22T04:18:50.320272",
     "status": "completed"
    },
    "tags": []
   },
   "outputs": [],
   "source": [
    "W = torch.zeros((x_train.shape[1],1), requires_grad=True)\n",
    "b = torch.zeros(1, requires_grad=True)\n",
    "\n",
    "optimizer = optim.SGD([W,b], lr=0.01)\n",
    "\n",
    "hypothesis = torch.sigmoid(torch.matmul(x_train, W)+b)"
   ]
  },
  {
   "cell_type": "code",
   "execution_count": 8,
   "id": "5c575265",
   "metadata": {
    "execution": {
     "iopub.execute_input": "2022-09-22T04:18:50.386706Z",
     "iopub.status.busy": "2022-09-22T04:18:50.385740Z",
     "iopub.status.idle": "2022-09-22T04:24:11.411291Z",
     "shell.execute_reply": "2022-09-22T04:24:11.410247Z"
    },
    "papermill": {
     "duration": 321.035991,
     "end_time": "2022-09-22T04:24:11.416955",
     "exception": false,
     "start_time": "2022-09-22T04:18:50.380964",
     "status": "completed"
    },
    "tags": []
   },
   "outputs": [
    {
     "name": "stdout",
     "output_type": "stream",
     "text": [
      "0 0.6931473016738892\n",
      "100000 0.6032845377922058\n",
      "200000 0.5899330377578735\n",
      "300000 0.5780060887336731\n",
      "400000 0.5672978758811951\n",
      "500000 0.5577350854873657\n",
      "600000 0.5491641163825989\n",
      "700000 0.5414417386054993\n",
      "800000 0.5345455408096313\n",
      "900000 0.5283812880516052\n",
      "1000000 0.5227400660514832\n"
     ]
    }
   ],
   "source": [
    "W = torch.zeros((x_train.shape[1],1), requires_grad=True)\n",
    "b = torch.zeros(1, requires_grad=True)\n",
    "\n",
    "optimizer = optim.SGD([W,b], lr=0.0001)\n",
    "\n",
    "np_epochs = 1000000\n",
    "for epoch in range(np_epochs+1) :\n",
    "    # 가설\n",
    "    hypothesis = torch.sigmoid(torch.matmul(x_train, W)+b)\n",
    "    # cost\n",
    "    loss = torch.nn.BCELoss()\n",
    "    cost = loss(hypothesis, y_train.unsqueeze(1))\n",
    "    # cost로 update\n",
    "    optimizer.zero_grad()\n",
    "    cost.backward()\n",
    "    optimizer.step()\n",
    "    \n",
    "    if epoch%100000 == 0 :\n",
    "        print(epoch, cost.item())\n",
    "    "
   ]
  },
  {
   "cell_type": "code",
   "execution_count": 9,
   "id": "9e9c5d85",
   "metadata": {
    "execution": {
     "iopub.execute_input": "2022-09-22T04:24:11.425737Z",
     "iopub.status.busy": "2022-09-22T04:24:11.425399Z",
     "iopub.status.idle": "2022-09-22T04:24:11.432808Z",
     "shell.execute_reply": "2022-09-22T04:24:11.431950Z"
    },
    "papermill": {
     "duration": 0.014045,
     "end_time": "2022-09-22T04:24:11.434745",
     "exception": false,
     "start_time": "2022-09-22T04:24:11.420700",
     "status": "completed"
    },
    "tags": []
   },
   "outputs": [],
   "source": [
    "hypothesis = torch.sigmoid(torch.matmul(x_test, W)+b).detach()\n",
    "submit['Diabetes'] = hypothesis >= torch.FloatTensor([0.5])"
   ]
  },
  {
   "cell_type": "code",
   "execution_count": 10,
   "id": "6a22ce4d",
   "metadata": {
    "execution": {
     "iopub.execute_input": "2022-09-22T04:24:11.444293Z",
     "iopub.status.busy": "2022-09-22T04:24:11.444018Z",
     "iopub.status.idle": "2022-09-22T04:24:11.452297Z",
     "shell.execute_reply": "2022-09-22T04:24:11.451429Z"
    },
    "papermill": {
     "duration": 0.014792,
     "end_time": "2022-09-22T04:24:11.454261",
     "exception": false,
     "start_time": "2022-09-22T04:24:11.439469",
     "status": "completed"
    },
    "tags": []
   },
   "outputs": [],
   "source": [
    "submit = submit.replace({'Diabetes' : True}, 1) \n",
    "submit = submit.replace({'Diabetes' : False}, 0) "
   ]
  },
  {
   "cell_type": "code",
   "execution_count": 11,
   "id": "68499ba1",
   "metadata": {
    "execution": {
     "iopub.execute_input": "2022-09-22T04:24:11.463472Z",
     "iopub.status.busy": "2022-09-22T04:24:11.462584Z",
     "iopub.status.idle": "2022-09-22T04:24:11.477354Z",
     "shell.execute_reply": "2022-09-22T04:24:11.476335Z"
    },
    "papermill": {
     "duration": 0.02207,
     "end_time": "2022-09-22T04:24:11.480134",
     "exception": false,
     "start_time": "2022-09-22T04:24:11.458064",
     "status": "completed"
    },
    "tags": []
   },
   "outputs": [
    {
     "data": {
      "text/html": [
       "<div>\n",
       "<style scoped>\n",
       "    .dataframe tbody tr th:only-of-type {\n",
       "        vertical-align: middle;\n",
       "    }\n",
       "\n",
       "    .dataframe tbody tr th {\n",
       "        vertical-align: top;\n",
       "    }\n",
       "\n",
       "    .dataframe thead th {\n",
       "        text-align: right;\n",
       "    }\n",
       "</style>\n",
       "<table border=\"1\" class=\"dataframe\">\n",
       "  <thead>\n",
       "    <tr style=\"text-align: right;\">\n",
       "      <th></th>\n",
       "      <th>ID</th>\n",
       "      <th>Diabetes</th>\n",
       "    </tr>\n",
       "  </thead>\n",
       "  <tbody>\n",
       "    <tr>\n",
       "      <th>0</th>\n",
       "      <td>0</td>\n",
       "      <td>0</td>\n",
       "    </tr>\n",
       "    <tr>\n",
       "      <th>1</th>\n",
       "      <td>1</td>\n",
       "      <td>0</td>\n",
       "    </tr>\n",
       "    <tr>\n",
       "      <th>2</th>\n",
       "      <td>2</td>\n",
       "      <td>0</td>\n",
       "    </tr>\n",
       "    <tr>\n",
       "      <th>3</th>\n",
       "      <td>3</td>\n",
       "      <td>0</td>\n",
       "    </tr>\n",
       "    <tr>\n",
       "      <th>4</th>\n",
       "      <td>4</td>\n",
       "      <td>0</td>\n",
       "    </tr>\n",
       "    <tr>\n",
       "      <th>...</th>\n",
       "      <td>...</td>\n",
       "      <td>...</td>\n",
       "    </tr>\n",
       "    <tr>\n",
       "      <th>226</th>\n",
       "      <td>226</td>\n",
       "      <td>1</td>\n",
       "    </tr>\n",
       "    <tr>\n",
       "      <th>227</th>\n",
       "      <td>227</td>\n",
       "      <td>0</td>\n",
       "    </tr>\n",
       "    <tr>\n",
       "      <th>228</th>\n",
       "      <td>228</td>\n",
       "      <td>0</td>\n",
       "    </tr>\n",
       "    <tr>\n",
       "      <th>229</th>\n",
       "      <td>229</td>\n",
       "      <td>0</td>\n",
       "    </tr>\n",
       "    <tr>\n",
       "      <th>230</th>\n",
       "      <td>230</td>\n",
       "      <td>0</td>\n",
       "    </tr>\n",
       "  </tbody>\n",
       "</table>\n",
       "<p>231 rows × 2 columns</p>\n",
       "</div>"
      ],
      "text/plain": [
       "      ID  Diabetes\n",
       "0      0         0\n",
       "1      1         0\n",
       "2      2         0\n",
       "3      3         0\n",
       "4      4         0\n",
       "..   ...       ...\n",
       "226  226         1\n",
       "227  227         0\n",
       "228  228         0\n",
       "229  229         0\n",
       "230  230         0\n",
       "\n",
       "[231 rows x 2 columns]"
      ]
     },
     "execution_count": 11,
     "metadata": {},
     "output_type": "execute_result"
    }
   ],
   "source": [
    "submit"
   ]
  },
  {
   "cell_type": "code",
   "execution_count": 12,
   "id": "5ac9f462",
   "metadata": {
    "execution": {
     "iopub.execute_input": "2022-09-22T04:24:11.489675Z",
     "iopub.status.busy": "2022-09-22T04:24:11.489339Z",
     "iopub.status.idle": "2022-09-22T04:24:11.496627Z",
     "shell.execute_reply": "2022-09-22T04:24:11.495821Z"
    },
    "papermill": {
     "duration": 0.013857,
     "end_time": "2022-09-22T04:24:11.498523",
     "exception": false,
     "start_time": "2022-09-22T04:24:11.484666",
     "status": "completed"
    },
    "tags": []
   },
   "outputs": [],
   "source": [
    "submit.to_csv('submit3.csv', index=False)"
   ]
  },
  {
   "cell_type": "code",
   "execution_count": null,
   "id": "5348d67c",
   "metadata": {
    "papermill": {
     "duration": 0.003785,
     "end_time": "2022-09-22T04:24:11.506187",
     "exception": false,
     "start_time": "2022-09-22T04:24:11.502402",
     "status": "completed"
    },
    "tags": []
   },
   "outputs": [],
   "source": []
  }
 ],
 "metadata": {
  "kernelspec": {
   "display_name": "Python 3",
   "language": "python",
   "name": "python3"
  },
  "language_info": {
   "codemirror_mode": {
    "name": "ipython",
    "version": 3
   },
   "file_extension": ".py",
   "mimetype": "text/x-python",
   "name": "python",
   "nbconvert_exporter": "python",
   "pygments_lexer": "ipython3",
   "version": "3.7.12"
  },
  "papermill": {
   "default_parameters": {},
   "duration": 332.004053,
   "end_time": "2022-09-22T04:24:12.430949",
   "environment_variables": {},
   "exception": null,
   "input_path": "__notebook__.ipynb",
   "output_path": "__notebook__.ipynb",
   "parameters": {},
   "start_time": "2022-09-22T04:18:40.426896",
   "version": "2.3.4"
  }
 },
 "nbformat": 4,
 "nbformat_minor": 5
}
