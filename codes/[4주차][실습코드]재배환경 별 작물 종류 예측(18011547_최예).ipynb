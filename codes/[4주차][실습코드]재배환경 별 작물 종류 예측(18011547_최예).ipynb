{
 "cells": [
  {
   "cell_type": "code",
   "execution_count": 1,
   "id": "92e59b71",
   "metadata": {
    "_cell_guid": "b1076dfc-b9ad-4769-8c92-a6c4dae69d19",
    "_uuid": "8f2839f25d086af736a60e9eeb907d3b93b6e0e5",
    "execution": {
     "iopub.execute_input": "2022-09-26T08:48:13.217004Z",
     "iopub.status.busy": "2022-09-26T08:48:13.216506Z",
     "iopub.status.idle": "2022-09-26T08:48:13.232388Z",
     "shell.execute_reply": "2022-09-26T08:48:13.230708Z"
    },
    "papermill": {
     "duration": 0.027009,
     "end_time": "2022-09-26T08:48:13.235845",
     "exception": false,
     "start_time": "2022-09-26T08:48:13.208836",
     "status": "completed"
    },
    "tags": []
   },
   "outputs": [
    {
     "name": "stdout",
     "output_type": "stream",
     "text": [
      "/kaggle/input/2022-ai-w4p2/sample.csv\n",
      "/kaggle/input/2022-ai-w4p2/train.csv\n",
      "/kaggle/input/2022-ai-w4p2/test.csv\n"
     ]
    }
   ],
   "source": [
    "# This Python 3 environment comes with many helpful analytics libraries installed\n",
    "# It is defined by the kaggle/python Docker image: https://github.com/kaggle/docker-python\n",
    "# For example, here's several helpful packages to load\n",
    "\n",
    "import numpy as np # linear algebra\n",
    "import pandas as pd # data processing, CSV file I/O (e.g. pd.read_csv)\n",
    "\n",
    "# Input data files are available in the read-only \"../input/\" directory\n",
    "# For example, running this (by clicking run or pressing Shift+Enter) will list all files under the input directory\n",
    "\n",
    "import os\n",
    "for dirname, _, filenames in os.walk('/kaggle/input'):\n",
    "    for filename in filenames:\n",
    "        print(os.path.join(dirname, filename))\n",
    "\n",
    "# You can write up to 20GB to the current directory (/kaggle/working/) that gets preserved as output when you create a version using \"Save & Run All\" \n",
    "# You can also write temporary files to /kaggle/temp/, but they won't be saved outside of the current session"
   ]
  },
  {
   "cell_type": "code",
   "execution_count": 2,
   "id": "0fca4bbe",
   "metadata": {
    "execution": {
     "iopub.execute_input": "2022-09-26T08:48:13.247444Z",
     "iopub.status.busy": "2022-09-26T08:48:13.246505Z",
     "iopub.status.idle": "2022-09-26T08:48:13.884064Z",
     "shell.execute_reply": "2022-09-26T08:48:13.882381Z"
    },
    "papermill": {
     "duration": 0.646726,
     "end_time": "2022-09-26T08:48:13.887514",
     "exception": false,
     "start_time": "2022-09-26T08:48:13.240788",
     "status": "completed"
    },
    "tags": []
   },
   "outputs": [],
   "source": [
    "import random\n",
    "import torch\n",
    "import torch.optim as optim\n",
    "\n",
    "seed = 42\n",
    "random.seed(seed)\n",
    "np.random.seed(seed)\n",
    "torch.manual_seed(seed)\n",
    "if torch.cuda.is_available():\n",
    "    torch.cuda.manual_seed(seed)\n",
    "    torch.cuda.manual_seed_all(seed)\n",
    "torch.backends.cudnn.benchmark = False\n",
    "torch.backends.cudnn.deterministic = True"
   ]
  },
  {
   "cell_type": "code",
   "execution_count": 3,
   "id": "1ac67247",
   "metadata": {
    "execution": {
     "iopub.execute_input": "2022-09-26T08:48:13.898535Z",
     "iopub.status.busy": "2022-09-26T08:48:13.897895Z",
     "iopub.status.idle": "2022-09-26T08:48:13.914922Z",
     "shell.execute_reply": "2022-09-26T08:48:13.913277Z"
    },
    "papermill": {
     "duration": 0.026068,
     "end_time": "2022-09-26T08:48:13.918161",
     "exception": false,
     "start_time": "2022-09-26T08:48:13.892093",
     "status": "completed"
    },
    "tags": []
   },
   "outputs": [],
   "source": [
    "train = pd.read_csv('../input/2022-ai-w4p2/train.csv')\n",
    "test = pd.read_csv('../input/2022-ai-w4p2/test.csv')\n",
    "submit = pd.read_csv('../input/2022-ai-w4p2/sample.csv')"
   ]
  },
  {
   "cell_type": "code",
   "execution_count": 4,
   "id": "743a7d9a",
   "metadata": {
    "execution": {
     "iopub.execute_input": "2022-09-26T08:48:13.928771Z",
     "iopub.status.busy": "2022-09-26T08:48:13.928251Z",
     "iopub.status.idle": "2022-09-26T08:48:13.937008Z",
     "shell.execute_reply": "2022-09-26T08:48:13.935548Z"
    },
    "papermill": {
     "duration": 0.017238,
     "end_time": "2022-09-26T08:48:13.939811",
     "exception": false,
     "start_time": "2022-09-26T08:48:13.922573",
     "status": "completed"
    },
    "tags": []
   },
   "outputs": [],
   "source": [
    "trainX = train.drop('label', axis=1)\n",
    "trainY = train['label']"
   ]
  },
  {
   "cell_type": "code",
   "execution_count": 5,
   "id": "4bc0c88e",
   "metadata": {
    "execution": {
     "iopub.execute_input": "2022-09-26T08:48:13.950674Z",
     "iopub.status.busy": "2022-09-26T08:48:13.950234Z",
     "iopub.status.idle": "2022-09-26T08:48:14.351942Z",
     "shell.execute_reply": "2022-09-26T08:48:14.350504Z"
    },
    "papermill": {
     "duration": 0.411037,
     "end_time": "2022-09-26T08:48:14.355630",
     "exception": false,
     "start_time": "2022-09-26T08:48:13.944593",
     "status": "completed"
    },
    "tags": []
   },
   "outputs": [],
   "source": [
    "from sklearn.preprocessing import LabelEncoder\n",
    "le = LabelEncoder()\n",
    "trainY = le.fit_transform(trainY)"
   ]
  },
  {
   "cell_type": "code",
   "execution_count": 6,
   "id": "7dbbe3c9",
   "metadata": {
    "execution": {
     "iopub.execute_input": "2022-09-26T08:48:14.366690Z",
     "iopub.status.busy": "2022-09-26T08:48:14.366239Z",
     "iopub.status.idle": "2022-09-26T08:48:14.376099Z",
     "shell.execute_reply": "2022-09-26T08:48:14.375126Z"
    },
    "papermill": {
     "duration": 0.017976,
     "end_time": "2022-09-26T08:48:14.378334",
     "exception": false,
     "start_time": "2022-09-26T08:48:14.360358",
     "status": "completed"
    },
    "tags": []
   },
   "outputs": [
    {
     "data": {
      "text/plain": [
       "array([13, 19, 17, ..., 12,  7, 10])"
      ]
     },
     "execution_count": 6,
     "metadata": {},
     "output_type": "execute_result"
    }
   ],
   "source": [
    "trainY"
   ]
  },
  {
   "cell_type": "code",
   "execution_count": 7,
   "id": "2e382537",
   "metadata": {
    "execution": {
     "iopub.execute_input": "2022-09-26T08:48:14.388799Z",
     "iopub.status.busy": "2022-09-26T08:48:14.388249Z",
     "iopub.status.idle": "2022-09-26T08:48:14.395700Z",
     "shell.execute_reply": "2022-09-26T08:48:14.394479Z"
    },
    "papermill": {
     "duration": 0.016107,
     "end_time": "2022-09-26T08:48:14.398609",
     "exception": false,
     "start_time": "2022-09-26T08:48:14.382502",
     "status": "completed"
    },
    "tags": []
   },
   "outputs": [],
   "source": [
    "x_train = torch.FloatTensor(trainX.to_numpy())\n",
    "y_train = torch.LongTensor(trainY)\n",
    "x_test = torch.FloatTensor(test.to_numpy())"
   ]
  },
  {
   "cell_type": "code",
   "execution_count": 8,
   "id": "2cf6fc51",
   "metadata": {
    "execution": {
     "iopub.execute_input": "2022-09-26T08:48:14.409979Z",
     "iopub.status.busy": "2022-09-26T08:48:14.409290Z",
     "iopub.status.idle": "2022-09-26T08:48:14.416997Z",
     "shell.execute_reply": "2022-09-26T08:48:14.415455Z"
    },
    "papermill": {
     "duration": 0.017182,
     "end_time": "2022-09-26T08:48:14.420404",
     "exception": false,
     "start_time": "2022-09-26T08:48:14.403222",
     "status": "completed"
    },
    "tags": []
   },
   "outputs": [
    {
     "data": {
      "text/plain": [
       "torch.Size([1650])"
      ]
     },
     "execution_count": 8,
     "metadata": {},
     "output_type": "execute_result"
    }
   ],
   "source": [
    "y_train.shape"
   ]
  },
  {
   "cell_type": "code",
   "execution_count": 9,
   "id": "711956c7",
   "metadata": {
    "execution": {
     "iopub.execute_input": "2022-09-26T08:48:14.439735Z",
     "iopub.status.busy": "2022-09-26T08:48:14.438668Z",
     "iopub.status.idle": "2022-09-26T08:48:32.662396Z",
     "shell.execute_reply": "2022-09-26T08:48:32.661146Z"
    },
    "papermill": {
     "duration": 18.236151,
     "end_time": "2022-09-26T08:48:32.665884",
     "exception": false,
     "start_time": "2022-09-26T08:48:14.429733",
     "status": "completed"
    },
    "tags": []
   },
   "outputs": [
    {
     "name": "stdout",
     "output_type": "stream",
     "text": [
      "0 3.0910415649414062\n",
      "1000 0.5660277009010315\n",
      "2000 0.4325185716152191\n",
      "3000 0.1499970555305481\n",
      "4000 0.12525497376918793\n",
      "5000 0.1457214206457138\n",
      "6000 0.1420230269432068\n",
      "7000 0.13809983432292938\n",
      "8000 0.1346563696861267\n",
      "9000 0.13151179254055023\n",
      "10000 0.12853045761585236\n"
     ]
    }
   ],
   "source": [
    "## 데이터 학습\n",
    "\n",
    "# softmax\n",
    "import torch.nn.functional as F\n",
    "\n",
    "nb_data = x_train.shape[1]\n",
    "nb_class = 22\n",
    "\n",
    "W = torch.zeros([nb_data, nb_class], requires_grad=True)\n",
    "b = torch.zeros(nb_class, requires_grad=True)\n",
    "\n",
    "optimizer = optim.SGD([W,b], lr=0.01)\n",
    "\n",
    "nb_epochs = 10000\n",
    "for epoch in range(nb_epochs+1) :\n",
    "    \n",
    "    hypothesis = F.softmax(torch.matmul(x_train, W)+b, dim=1)\n",
    "    \n",
    "    # cross_entropy를 사용하면 scatter 함수를 이용한 one_hot_encoding을 안해도 됨\n",
    "    cost = F.cross_entropy((x_train.matmul(W) + b), y_train)\n",
    "    \n",
    "    optimizer.zero_grad()\n",
    "    cost.backward()\n",
    "    optimizer.step()\n",
    "    \n",
    "    if epoch % 1000 == 0 :\n",
    "        print(epoch, cost.item())"
   ]
  },
  {
   "cell_type": "code",
   "execution_count": 10,
   "id": "beea7d9e",
   "metadata": {
    "execution": {
     "iopub.execute_input": "2022-09-26T08:48:32.678791Z",
     "iopub.status.busy": "2022-09-26T08:48:32.678269Z",
     "iopub.status.idle": "2022-09-26T08:48:32.685790Z",
     "shell.execute_reply": "2022-09-26T08:48:32.684188Z"
    },
    "papermill": {
     "duration": 0.017375,
     "end_time": "2022-09-26T08:48:32.688787",
     "exception": false,
     "start_time": "2022-09-26T08:48:32.671412",
     "status": "completed"
    },
    "tags": []
   },
   "outputs": [],
   "source": [
    "hypothesis = F.softmax(torch.matmul(x_test, W)+b, dim=1)\n",
    "predict = torch.argmax(hypothesis, dim=1)"
   ]
  },
  {
   "cell_type": "code",
   "execution_count": 11,
   "id": "1244df73",
   "metadata": {
    "execution": {
     "iopub.execute_input": "2022-09-26T08:48:32.701482Z",
     "iopub.status.busy": "2022-09-26T08:48:32.701007Z",
     "iopub.status.idle": "2022-09-26T08:48:32.709804Z",
     "shell.execute_reply": "2022-09-26T08:48:32.708460Z"
    },
    "papermill": {
     "duration": 0.018787,
     "end_time": "2022-09-26T08:48:32.712878",
     "exception": false,
     "start_time": "2022-09-26T08:48:32.694091",
     "status": "completed"
    },
    "tags": []
   },
   "outputs": [],
   "source": [
    "submit['label'] = le.inverse_transform(predict)"
   ]
  },
  {
   "cell_type": "code",
   "execution_count": 12,
   "id": "95c00af2",
   "metadata": {
    "execution": {
     "iopub.execute_input": "2022-09-26T08:48:32.726588Z",
     "iopub.status.busy": "2022-09-26T08:48:32.725721Z",
     "iopub.status.idle": "2022-09-26T08:48:32.734883Z",
     "shell.execute_reply": "2022-09-26T08:48:32.733709Z"
    },
    "papermill": {
     "duration": 0.019425,
     "end_time": "2022-09-26T08:48:32.737630",
     "exception": false,
     "start_time": "2022-09-26T08:48:32.718205",
     "status": "completed"
    },
    "tags": []
   },
   "outputs": [],
   "source": [
    "submit.to_csv('submit.csv', index=False)"
   ]
  },
  {
   "cell_type": "code",
   "execution_count": null,
   "id": "e607fc2d",
   "metadata": {
    "papermill": {
     "duration": 0.004863,
     "end_time": "2022-09-26T08:48:32.748206",
     "exception": false,
     "start_time": "2022-09-26T08:48:32.743343",
     "status": "completed"
    },
    "tags": []
   },
   "outputs": [],
   "source": []
  }
 ],
 "metadata": {
  "kernelspec": {
   "display_name": "Python 3",
   "language": "python",
   "name": "python3"
  },
  "language_info": {
   "codemirror_mode": {
    "name": "ipython",
    "version": 3
   },
   "file_extension": ".py",
   "mimetype": "text/x-python",
   "name": "python",
   "nbconvert_exporter": "python",
   "pygments_lexer": "ipython3",
   "version": "3.7.12"
  },
  "papermill": {
   "default_parameters": {},
   "duration": 28.548075,
   "end_time": "2022-09-26T08:48:33.579256",
   "environment_variables": {},
   "exception": null,
   "input_path": "__notebook__.ipynb",
   "output_path": "__notebook__.ipynb",
   "parameters": {},
   "start_time": "2022-09-26T08:48:05.031181",
   "version": "2.3.4"
  }
 },
 "nbformat": 4,
 "nbformat_minor": 5
}
