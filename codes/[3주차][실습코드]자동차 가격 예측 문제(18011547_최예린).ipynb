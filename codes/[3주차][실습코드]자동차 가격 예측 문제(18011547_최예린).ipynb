{
 "cells": [
  {
   "cell_type": "code",
   "execution_count": 1,
   "id": "e83425d2",
   "metadata": {
    "_cell_guid": "b1076dfc-b9ad-4769-8c92-a6c4dae69d19",
    "_uuid": "8f2839f25d086af736a60e9eeb907d3b93b6e0e5",
    "execution": {
     "iopub.execute_input": "2022-09-19T07:59:30.527942Z",
     "iopub.status.busy": "2022-09-19T07:59:30.527396Z",
     "iopub.status.idle": "2022-09-19T07:59:30.543945Z",
     "shell.execute_reply": "2022-09-19T07:59:30.542056Z"
    },
    "papermill": {
     "duration": 0.027513,
     "end_time": "2022-09-19T07:59:30.547124",
     "exception": false,
     "start_time": "2022-09-19T07:59:30.519611",
     "status": "completed"
    },
    "tags": []
   },
   "outputs": [
    {
     "name": "stdout",
     "output_type": "stream",
     "text": [
      "/kaggle/input/2022-ai-w3p2/train_data.csv\n",
      "/kaggle/input/2022-ai-w3p2/test_data.csv\n",
      "/kaggle/input/2022-ai-w3p2/sample_submit.csv\n"
     ]
    }
   ],
   "source": [
    "# This Python 3 environment comes with many helpful analytics libraries installed\n",
    "# It is defined by the kaggle/python Docker image: https://github.com/kaggle/docker-python\n",
    "# For example, here's several helpful packages to load\n",
    "\n",
    "import numpy as np # linear algebra\n",
    "import pandas as pd # data processing, CSV file I/O (e.g. pd.read_csv)\n",
    "\n",
    "# Input data files are available in the read-only \"../input/\" directory\n",
    "# For example, running this (by clicking run or pressing Shift+Enter) will list all files under the input directory\n",
    "\n",
    "import os\n",
    "for dirname, _, filenames in os.walk('/kaggle/input'):\n",
    "    for filename in filenames:\n",
    "        print(os.path.join(dirname, filename))\n",
    "\n",
    "# You can write up to 20GB to the current directory (/kaggle/working/) that gets preserved as output when you create a version using \"Save & Run All\" \n",
    "# You can also write temporary files to /kaggle/temp/, but they won't be saved outside of the current session"
   ]
  },
  {
   "cell_type": "code",
   "execution_count": 2,
   "id": "d8c1379b",
   "metadata": {
    "execution": {
     "iopub.execute_input": "2022-09-19T07:59:30.558631Z",
     "iopub.status.busy": "2022-09-19T07:59:30.558042Z",
     "iopub.status.idle": "2022-09-19T07:59:32.850969Z",
     "shell.execute_reply": "2022-09-19T07:59:32.849462Z"
    },
    "papermill": {
     "duration": 2.302187,
     "end_time": "2022-09-19T07:59:32.854153",
     "exception": false,
     "start_time": "2022-09-19T07:59:30.551966",
     "status": "completed"
    },
    "tags": []
   },
   "outputs": [],
   "source": [
    "import random\n",
    "import torch\n",
    "\n",
    "seed = 42\n",
    "random.seed(seed)\n",
    "np.random.seed(seed)\n",
    "torch.manual_seed(seed)\n",
    "if torch.cuda.is_available():\n",
    "    torch.cuda.manual_seed(seed)\n",
    "    torch.cuda.manual_seed_all(seed)\n",
    "torch.backends.cudnn.benchmark = False\n",
    "torch.backends.cudnn.deterministic = True"
   ]
  },
  {
   "cell_type": "code",
   "execution_count": 3,
   "id": "e421151a",
   "metadata": {
    "execution": {
     "iopub.execute_input": "2022-09-19T07:59:32.868849Z",
     "iopub.status.busy": "2022-09-19T07:59:32.868073Z",
     "iopub.status.idle": "2022-09-19T07:59:32.978584Z",
     "shell.execute_reply": "2022-09-19T07:59:32.977465Z"
    },
    "papermill": {
     "duration": 0.120083,
     "end_time": "2022-09-19T07:59:32.981549",
     "exception": false,
     "start_time": "2022-09-19T07:59:32.861466",
     "status": "completed"
    },
    "tags": []
   },
   "outputs": [],
   "source": [
    "train = pd.read_csv('../input/2022-ai-w3p2/train_data.csv')\n",
    "test = pd.read_csv('../input/2022-ai-w3p2/test_data.csv')\n",
    "submit = pd.read_csv('../input/2022-ai-w3p2/sample_submit.csv')"
   ]
  },
  {
   "cell_type": "code",
   "execution_count": 4,
   "id": "67444947",
   "metadata": {
    "execution": {
     "iopub.execute_input": "2022-09-19T07:59:32.993413Z",
     "iopub.status.busy": "2022-09-19T07:59:32.992634Z",
     "iopub.status.idle": "2022-09-19T07:59:33.012869Z",
     "shell.execute_reply": "2022-09-19T07:59:33.011682Z"
    },
    "papermill": {
     "duration": 0.029513,
     "end_time": "2022-09-19T07:59:33.015661",
     "exception": false,
     "start_time": "2022-09-19T07:59:32.986148",
     "status": "completed"
    },
    "tags": []
   },
   "outputs": [],
   "source": [
    "trainX = train.drop(['ID', 'price'], axis=1)\n",
    "trainY = train['price']\n",
    "testX = test.drop('ID', axis=1)"
   ]
  },
  {
   "cell_type": "code",
   "execution_count": 5,
   "id": "995952ad",
   "metadata": {
    "execution": {
     "iopub.execute_input": "2022-09-19T07:59:33.027749Z",
     "iopub.status.busy": "2022-09-19T07:59:33.026965Z",
     "iopub.status.idle": "2022-09-19T07:59:33.054631Z",
     "shell.execute_reply": "2022-09-19T07:59:33.052260Z"
    },
    "papermill": {
     "duration": 0.037771,
     "end_time": "2022-09-19T07:59:33.058162",
     "exception": false,
     "start_time": "2022-09-19T07:59:33.020391",
     "status": "completed"
    },
    "tags": []
   },
   "outputs": [
    {
     "name": "stdout",
     "output_type": "stream",
     "text": [
      "<class 'pandas.core.frame.DataFrame'>\n",
      "RangeIndex: 17085 entries, 0 to 17084\n",
      "Data columns (total 9 columns):\n",
      " #   Column        Non-Null Count  Dtype  \n",
      "---  ------        --------------  -----  \n",
      " 0   company       17085 non-null  int64  \n",
      " 1   model         17085 non-null  object \n",
      " 2   year          17085 non-null  int64  \n",
      " 3   transmission  17085 non-null  int64  \n",
      " 4   mileage       17085 non-null  int64  \n",
      " 5   fueltype      17085 non-null  int64  \n",
      " 6   tax           17085 non-null  int64  \n",
      " 7   mpg           17085 non-null  float64\n",
      " 8   engineSize    17085 non-null  float64\n",
      "dtypes: float64(2), int64(6), object(1)\n",
      "memory usage: 1.2+ MB\n"
     ]
    }
   ],
   "source": [
    "trainX.info()"
   ]
  },
  {
   "cell_type": "code",
   "execution_count": 6,
   "id": "025d117c",
   "metadata": {
    "execution": {
     "iopub.execute_input": "2022-09-19T07:59:33.070110Z",
     "iopub.status.busy": "2022-09-19T07:59:33.069597Z",
     "iopub.status.idle": "2022-09-19T07:59:34.126655Z",
     "shell.execute_reply": "2022-09-19T07:59:34.125266Z"
    },
    "papermill": {
     "duration": 1.066713,
     "end_time": "2022-09-19T07:59:34.129878",
     "exception": false,
     "start_time": "2022-09-19T07:59:33.063165",
     "status": "completed"
    },
    "tags": []
   },
   "outputs": [],
   "source": [
    "from sklearn.preprocessing import LabelEncoder\n",
    "le = LabelEncoder()\n",
    "\n",
    "trainX['model'] = le.fit_transform(trainX['model'])\n",
    "testX['model'] = le.transform(testX['model'])"
   ]
  },
  {
   "cell_type": "code",
   "execution_count": 7,
   "id": "4c4c3b4f",
   "metadata": {
    "execution": {
     "iopub.execute_input": "2022-09-19T07:59:34.141437Z",
     "iopub.status.busy": "2022-09-19T07:59:34.140900Z",
     "iopub.status.idle": "2022-09-19T07:59:34.155632Z",
     "shell.execute_reply": "2022-09-19T07:59:34.154323Z"
    },
    "papermill": {
     "duration": 0.024394,
     "end_time": "2022-09-19T07:59:34.158950",
     "exception": false,
     "start_time": "2022-09-19T07:59:34.134556",
     "status": "completed"
    },
    "tags": []
   },
   "outputs": [],
   "source": [
    "x_train = torch.FloatTensor(trainX.to_numpy())\n",
    "y_train = torch.FloatTensor(trainY.to_numpy().reshape(-1,1))\n",
    "x_test = torch.FloatTensor(testX.to_numpy())"
   ]
  },
  {
   "cell_type": "code",
   "execution_count": 8,
   "id": "95acd6cd",
   "metadata": {
    "execution": {
     "iopub.execute_input": "2022-09-19T07:59:34.172109Z",
     "iopub.status.busy": "2022-09-19T07:59:34.171560Z",
     "iopub.status.idle": "2022-09-19T07:59:34.181676Z",
     "shell.execute_reply": "2022-09-19T07:59:34.180683Z"
    },
    "papermill": {
     "duration": 0.019358,
     "end_time": "2022-09-19T07:59:34.183951",
     "exception": false,
     "start_time": "2022-09-19T07:59:34.164593",
     "status": "completed"
    },
    "tags": []
   },
   "outputs": [
    {
     "data": {
      "text/plain": [
       "9"
      ]
     },
     "execution_count": 8,
     "metadata": {},
     "output_type": "execute_result"
    }
   ],
   "source": [
    "x_train.shape[1]"
   ]
  },
  {
   "cell_type": "code",
   "execution_count": 9,
   "id": "5500a01b",
   "metadata": {
    "execution": {
     "iopub.execute_input": "2022-09-19T07:59:34.195857Z",
     "iopub.status.busy": "2022-09-19T07:59:34.195264Z",
     "iopub.status.idle": "2022-09-19T07:59:34.202099Z",
     "shell.execute_reply": "2022-09-19T07:59:34.200734Z"
    },
    "papermill": {
     "duration": 0.015949,
     "end_time": "2022-09-19T07:59:34.204726",
     "exception": false,
     "start_time": "2022-09-19T07:59:34.188777",
     "status": "completed"
    },
    "tags": []
   },
   "outputs": [],
   "source": [
    "# 초기화\n",
    "W = torch.zeros([x_train.shape[1], 1], requires_grad=True)\n",
    "b = torch.zeros(1, requires_grad=True)"
   ]
  },
  {
   "cell_type": "code",
   "execution_count": 10,
   "id": "ed97783e",
   "metadata": {
    "execution": {
     "iopub.execute_input": "2022-09-19T07:59:34.217332Z",
     "iopub.status.busy": "2022-09-19T07:59:34.216492Z",
     "iopub.status.idle": "2022-09-19T07:59:34.221926Z",
     "shell.execute_reply": "2022-09-19T07:59:34.220714Z"
    },
    "papermill": {
     "duration": 0.014857,
     "end_time": "2022-09-19T07:59:34.224550",
     "exception": false,
     "start_time": "2022-09-19T07:59:34.209693",
     "status": "completed"
    },
    "tags": []
   },
   "outputs": [],
   "source": [
    "# optimizer 설정\n",
    "import torch.optim as optim\n",
    "optimizer = optim.SGD([W, b], 0.00001)"
   ]
  },
  {
   "cell_type": "code",
   "execution_count": 11,
   "id": "576ecabd",
   "metadata": {
    "execution": {
     "iopub.execute_input": "2022-09-19T07:59:34.237480Z",
     "iopub.status.busy": "2022-09-19T07:59:34.236655Z",
     "iopub.status.idle": "2022-09-19T08:05:57.402512Z",
     "shell.execute_reply": "2022-09-19T08:05:57.401317Z"
    },
    "papermill": {
     "duration": 383.182333,
     "end_time": "2022-09-19T08:05:57.411948",
     "exception": false,
     "start_time": "2022-09-19T07:59:34.229615",
     "status": "completed"
    },
    "tags": []
   },
   "outputs": [
    {
     "name": "stdout",
     "output_type": "stream",
     "text": [
      "0 16819.763671875\n",
      "100000 6059.2265625\n",
      "200000 5972.69287109375\n",
      "300000 5943.283203125\n",
      "400000 5932.3359375\n",
      "500000 5927.30517578125\n",
      "600000 5924.2451171875\n",
      "700000 5921.87841796875\n",
      "800000 5919.6923828125\n",
      "900000 5917.595703125\n",
      "1000000 5915.5546875\n"
     ]
    }
   ],
   "source": [
    "np_epochs = 1000000\n",
    "for epoch in range(np_epochs+1) :\n",
    "    # H(x) 계산\n",
    "    hypothesis = torch.matmul(x_train, W) +b\n",
    "    # cost 계산 - \n",
    "    cost = torch.mean(torch.abs(hypothesis - y_train))\n",
    "     \n",
    "    # cost로 H(x) 개선\n",
    "    optimizer.zero_grad()\n",
    "    cost.backward()\n",
    "    optimizer.step()\n",
    "    \n",
    "    if epoch % 100000 == 0 :\n",
    "        print(epoch, cost.item())"
   ]
  },
  {
   "cell_type": "code",
   "execution_count": 12,
   "id": "15688159",
   "metadata": {
    "execution": {
     "iopub.execute_input": "2022-09-19T08:05:57.425939Z",
     "iopub.status.busy": "2022-09-19T08:05:57.425118Z",
     "iopub.status.idle": "2022-09-19T08:05:57.433497Z",
     "shell.execute_reply": "2022-09-19T08:05:57.432345Z"
    },
    "papermill": {
     "duration": 0.018563,
     "end_time": "2022-09-19T08:05:57.436387",
     "exception": false,
     "start_time": "2022-09-19T08:05:57.417824",
     "status": "completed"
    },
    "tags": []
   },
   "outputs": [],
   "source": [
    "# 내부적으로 계산하는 require_grad 때문에 상수화가 안돼서? detach로 함수를 제거한다 (?)\n",
    "submit['price'] = (torch.matmul(x_test, W) + b).detach()"
   ]
  },
  {
   "cell_type": "code",
   "execution_count": 13,
   "id": "9636debb",
   "metadata": {
    "execution": {
     "iopub.execute_input": "2022-09-19T08:05:57.449441Z",
     "iopub.status.busy": "2022-09-19T08:05:57.448890Z",
     "iopub.status.idle": "2022-09-19T08:05:57.490382Z",
     "shell.execute_reply": "2022-09-19T08:05:57.489054Z"
    },
    "papermill": {
     "duration": 0.05157,
     "end_time": "2022-09-19T08:05:57.493488",
     "exception": false,
     "start_time": "2022-09-19T08:05:57.441918",
     "status": "completed"
    },
    "tags": []
   },
   "outputs": [],
   "source": [
    "submit.to_csv('submit2.csv', index=False)"
   ]
  },
  {
   "cell_type": "code",
   "execution_count": null,
   "id": "7614a404",
   "metadata": {
    "papermill": {
     "duration": 0.005076,
     "end_time": "2022-09-19T08:05:57.504090",
     "exception": false,
     "start_time": "2022-09-19T08:05:57.499014",
     "status": "completed"
    },
    "tags": []
   },
   "outputs": [],
   "source": []
  }
 ],
 "metadata": {
  "kernelspec": {
   "display_name": "Python 3",
   "language": "python",
   "name": "python3"
  },
  "language_info": {
   "codemirror_mode": {
    "name": "ipython",
    "version": 3
   },
   "file_extension": ".py",
   "mimetype": "text/x-python",
   "name": "python",
   "nbconvert_exporter": "python",
   "pygments_lexer": "ipython3",
   "version": "3.7.12"
  },
  "papermill": {
   "default_parameters": {},
   "duration": 399.409809,
   "end_time": "2022-09-19T08:05:58.838831",
   "environment_variables": {},
   "exception": null,
   "input_path": "__notebook__.ipynb",
   "output_path": "__notebook__.ipynb",
   "parameters": {},
   "start_time": "2022-09-19T07:59:19.429022",
   "version": "2.3.4"
  }
 },
 "nbformat": 4,
 "nbformat_minor": 5
}
